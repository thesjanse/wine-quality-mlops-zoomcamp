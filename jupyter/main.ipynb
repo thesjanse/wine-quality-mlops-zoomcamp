{
 "cells": [
  {
   "cell_type": "markdown",
   "id": "8cad7903-b461-43d5-bdc4-1a1a8bce7597",
   "metadata": {},
   "source": [
    "# TODO\n",
    "- automatic creation of the bucket;\n",
    "- automatic creation of credentials (test root)\n",
    "- single postgres instance for both grafana & mlflow;"
   ]
  },
  {
   "cell_type": "code",
   "execution_count": null,
   "id": "1d71efef-eca2-4a06-b1fb-eb5d085ccdd3",
   "metadata": {},
   "outputs": [],
   "source": []
  },
  {
   "cell_type": "code",
   "execution_count": null,
   "id": "298de113-c7fc-43a7-b43b-6236cc178993",
   "metadata": {},
   "outputs": [],
   "source": []
  },
  {
   "cell_type": "code",
   "execution_count": null,
   "id": "c3f0c0cf-9209-4815-9d65-2e82056e51e0",
   "metadata": {},
   "outputs": [],
   "source": []
  },
  {
   "cell_type": "code",
   "execution_count": 1,
   "id": "8c8890d0-4fea-49b2-8662-63ab8ad4e9a1",
   "metadata": {},
   "outputs": [],
   "source": [
    "# download dataset and store it in s3 bucket\n",
    "!python ./scripts/download_data.py"
   ]
  },
  {
   "cell_type": "code",
   "execution_count": 2,
   "id": "deacc780-cc86-43b5-af98-3ecb2cc2e50d",
   "metadata": {},
   "outputs": [
    {
     "name": "stdout",
     "output_type": "stream",
     "text": [
      "\u001b[32m[I 2023-07-27 21:15:42,191]\u001b[0m A new study created in memory with name: no-name-b10e7b0d-55b3-4243-b206-e5e237453ae7\u001b[0m\n",
      "\u001b[32m[I 2023-07-27 21:15:43,620]\u001b[0m Trial 0 finished with value: 0.645 and parameters: {'n_estimators': 1100, 'max_features': 'sqrt', 'max_depth': 60, 'bootstrap': False, 'min_samples_leaf': 2, 'min_samples_split': 10, 'random_state': 0, 'n_jobs': -1}. Best is trial 0 with value: 0.645.\u001b[0m\n",
      "\u001b[32m[I 2023-07-27 21:15:46,208]\u001b[0m Trial 1 finished with value: 0.63 and parameters: {'n_estimators': 1950, 'max_features': 'log2', 'max_depth': 60, 'bootstrap': False, 'min_samples_leaf': 1, 'min_samples_split': 2, 'random_state': 0, 'n_jobs': -1}. Best is trial 0 with value: 0.645.\u001b[0m\n",
      "\u001b[32m[I 2023-07-27 21:15:46,353]\u001b[0m Trial 2 finished with value: 0.66 and parameters: {'n_estimators': 50, 'max_features': 'sqrt', 'max_depth': 90, 'bootstrap': True, 'min_samples_leaf': 2, 'min_samples_split': 9, 'random_state': 0, 'n_jobs': -1}. Best is trial 2 with value: 0.66.\u001b[0m\n",
      "\u001b[32m[I 2023-07-27 21:15:46,782]\u001b[0m Trial 3 finished with value: 0.645 and parameters: {'n_estimators': 250, 'max_features': 'sqrt', 'max_depth': 100, 'bootstrap': True, 'min_samples_leaf': 2, 'min_samples_split': 8, 'random_state': 0, 'n_jobs': -1}. Best is trial 2 with value: 0.66.\u001b[0m\n",
      "\u001b[32m[I 2023-07-27 21:15:47,971]\u001b[0m Trial 4 finished with value: 0.6275 and parameters: {'n_estimators': 950, 'max_features': 'sqrt', 'max_depth': 70, 'bootstrap': False, 'min_samples_leaf': 4, 'min_samples_split': 8, 'random_state': 0, 'n_jobs': -1}. Best is trial 2 with value: 0.66.\u001b[0m\n",
      "\u001b[32m[I 2023-07-27 21:15:48,933]\u001b[0m Trial 5 finished with value: 0.6375 and parameters: {'n_estimators': 750, 'max_features': 'log2', 'max_depth': 10, 'bootstrap': False, 'min_samples_leaf': 1, 'min_samples_split': 3, 'random_state': 0, 'n_jobs': -1}. Best is trial 2 with value: 0.66.\u001b[0m\n",
      "\u001b[32m[I 2023-07-27 21:15:49,953]\u001b[0m Trial 6 finished with value: 0.65 and parameters: {'n_estimators': 650, 'max_features': 'log2', 'max_depth': 50, 'bootstrap': True, 'min_samples_leaf': 1, 'min_samples_split': 3, 'random_state': 0, 'n_jobs': -1}. Best is trial 2 with value: 0.66.\u001b[0m\n",
      "\u001b[32m[I 2023-07-27 21:15:51,961]\u001b[0m Trial 7 finished with value: 0.635 and parameters: {'n_estimators': 1350, 'max_features': 'log2', 'max_depth': 30, 'bootstrap': True, 'min_samples_leaf': 3, 'min_samples_split': 3, 'random_state': 0, 'n_jobs': -1}. Best is trial 2 with value: 0.66.\u001b[0m\n",
      "\u001b[32m[I 2023-07-27 21:15:52,591]\u001b[0m Trial 8 finished with value: 0.62 and parameters: {'n_estimators': 400, 'max_features': 'log2', 'max_depth': 10, 'bootstrap': True, 'min_samples_leaf': 4, 'min_samples_split': 6, 'random_state': 0, 'n_jobs': -1}. Best is trial 2 with value: 0.66.\u001b[0m\n",
      "\u001b[32m[I 2023-07-27 21:15:55,514]\u001b[0m Trial 9 finished with value: 0.6425 and parameters: {'n_estimators': 2000, 'max_features': 'log2', 'max_depth': 10, 'bootstrap': True, 'min_samples_leaf': 2, 'min_samples_split': 3, 'random_state': 0, 'n_jobs': -1}. Best is trial 2 with value: 0.66.\u001b[0m\n"
     ]
    }
   ],
   "source": [
    "# run manual hyperparameter optimization\n",
    "!python ./scripts/hpo.py 90"
   ]
  }
 ],
 "metadata": {
  "kernelspec": {
   "display_name": "Python 3 (ipykernel)",
   "language": "python",
   "name": "python3"
  },
  "language_info": {
   "codemirror_mode": {
    "name": "ipython",
    "version": 3
   },
   "file_extension": ".py",
   "mimetype": "text/x-python",
   "name": "python",
   "nbconvert_exporter": "python",
   "pygments_lexer": "ipython3",
   "version": "3.10.11"
  }
 },
 "nbformat": 4,
 "nbformat_minor": 5
}
