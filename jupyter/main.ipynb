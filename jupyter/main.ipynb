{
 "cells": [
  {
   "cell_type": "code",
   "execution_count": 2,
   "id": "8c8890d0-4fea-49b2-8662-63ab8ad4e9a1",
   "metadata": {},
   "outputs": [],
   "source": [
    "# download dataset and store it in s3 bucket\n",
    "!python ./scripts/download_data.py"
   ]
  },
  {
   "cell_type": "code",
   "execution_count": 3,
   "id": "deacc780-cc86-43b5-af98-3ecb2cc2e50d",
   "metadata": {},
   "outputs": [
    {
     "name": "stdout",
     "output_type": "stream",
     "text": [
      "2023/08/12 20:55:18 INFO mlflow.tracking.fluent: Experiment with name 'red-wine-quality-hyperopt' does not exist. Creating a new experiment.\n",
      "\u001b[32m[I 2023-08-12 20:55:18,314]\u001b[0m A new study created in memory with name: no-name-32ac8e0b-f5e0-41c3-b30d-2a91679645c0\u001b[0m\n",
      "\u001b[32m[I 2023-08-12 20:55:19,730]\u001b[0m Trial 0 finished with value: 0.645 and parameters: {'n_estimators': 1100, 'max_features': 'sqrt', 'max_depth': 60, 'bootstrap': False, 'min_samples_leaf': 2, 'min_samples_split': 10, 'random_state': 0, 'n_jobs': -1}. Best is trial 0 with value: 0.645.\u001b[0m\n",
      "\u001b[32m[I 2023-08-12 20:55:21,401]\u001b[0m Trial 1 finished with value: 0.63 and parameters: {'n_estimators': 1950, 'max_features': 'log2', 'max_depth': 60, 'bootstrap': False, 'min_samples_leaf': 1, 'min_samples_split': 2, 'random_state': 0, 'n_jobs': -1}. Best is trial 0 with value: 0.645.\u001b[0m\n",
      "\u001b[32m[I 2023-08-12 20:55:21,512]\u001b[0m Trial 2 finished with value: 0.66 and parameters: {'n_estimators': 50, 'max_features': 'sqrt', 'max_depth': 90, 'bootstrap': True, 'min_samples_leaf': 2, 'min_samples_split': 9, 'random_state': 0, 'n_jobs': -1}. Best is trial 2 with value: 0.66.\u001b[0m\n",
      "\u001b[32m[I 2023-08-12 20:55:21,860]\u001b[0m Trial 3 finished with value: 0.645 and parameters: {'n_estimators': 250, 'max_features': 'sqrt', 'max_depth': 100, 'bootstrap': True, 'min_samples_leaf': 2, 'min_samples_split': 8, 'random_state': 0, 'n_jobs': -1}. Best is trial 2 with value: 0.66.\u001b[0m\n",
      "\u001b[32m[I 2023-08-12 20:55:22,672]\u001b[0m Trial 4 finished with value: 0.6275 and parameters: {'n_estimators': 950, 'max_features': 'sqrt', 'max_depth': 70, 'bootstrap': False, 'min_samples_leaf': 4, 'min_samples_split': 8, 'random_state': 0, 'n_jobs': -1}. Best is trial 2 with value: 0.66.\u001b[0m\n"
     ]
    }
   ],
   "source": [
    "# run manual hyperparameter optimization\n",
    "!python ./scripts/hpo.py 5"
   ]
  },
  {
   "cell_type": "code",
   "execution_count": 1,
   "id": "d4b84596-5e5e-48af-9805-28a62636e25c",
   "metadata": {},
   "outputs": [
    {
     "name": "stdout",
     "output_type": "stream",
     "text": [
      "21:25:38.553 | \u001b[36mINFO\u001b[0m    | prefect.engine - Created flow run\u001b[35m 'winged-guillemot'\u001b[0m for flow\u001b[1;35m 'Main Registration Flow'\u001b[0m\n",
      "21:25:38.554 | \u001b[36mINFO\u001b[0m    | Flow run\u001b[35m 'winged-guillemot'\u001b[0m - View at \u001b[94mhttp://prefect-server:4200/flow-runs/flow-run/4165cf19-beed-4574-a0ce-bd63105f313a\u001b[0m\n",
      "21:25:38.663 | \u001b[36mINFO\u001b[0m    | Flow run\u001b[35m 'winged-guillemot'\u001b[0m - Created task run 'Prepare Data-0' for task 'Prepare Data'\n",
      "21:25:38.664 | \u001b[36mINFO\u001b[0m    | Flow run\u001b[35m 'winged-guillemot'\u001b[0m - Executing 'Prepare Data-0' immediately...\n",
      "21:25:38.788 | \u001b[36mINFO\u001b[0m    | Task run 'Prepare Data-0' - Finished in state \u001b[32mCompleted\u001b[0m()\n",
      "21:25:38.803 | \u001b[36mINFO\u001b[0m    | Flow run\u001b[35m 'winged-guillemot'\u001b[0m - Created task run 'Get Parameters-0' for task 'Get Parameters'\n",
      "21:25:38.804 | \u001b[36mINFO\u001b[0m    | Flow run\u001b[35m 'winged-guillemot'\u001b[0m - Executing 'Get Parameters-0' immediately...\n",
      "21:25:38.899 | \u001b[36mINFO\u001b[0m    | Task run 'Get Parameters-0' - Finished in state \u001b[32mCompleted\u001b[0m()\n",
      "21:25:38.914 | \u001b[36mINFO\u001b[0m    | Flow run\u001b[35m 'winged-guillemot'\u001b[0m - Created task run 'Register Best Model-0' for task 'Register Best Model'\n",
      "21:25:38.915 | \u001b[36mINFO\u001b[0m    | Flow run\u001b[35m 'winged-guillemot'\u001b[0m - Executing 'Register Best Model-0' immediately...\n",
      "/opt/conda/lib/python3.11/site-packages/_distutils_hack/__init__.py:33: UserWarning: Setuptools is replacing distutils.\n",
      "  warnings.warn(\"Setuptools is replacing distutils.\")\n",
      "Registered model 'sk-rfc-model' already exists. Creating a new version of this model...\n",
      "2023/08/12 21:25:41 INFO mlflow.tracking._model_registry.client: Waiting up to 300 seconds for model version to finish creation. Model name: sk-rfc-model, version 3\n",
      "Created version '3' of model 'sk-rfc-model'.\n",
      "21:25:41.327 | \u001b[36mINFO\u001b[0m    | Task run 'Register Best Model-0' - Finished in state \u001b[32mCompleted\u001b[0m()\n",
      "21:25:41.348 | \u001b[36mINFO\u001b[0m    | Flow run\u001b[35m 'winged-guillemot'\u001b[0m - Finished in state \u001b[32mCompleted\u001b[0m('All states completed.')\n"
     ]
    }
   ],
   "source": [
    "# manually register the best random forest model via prefect flow\n",
    "!python ./scripts/register_best_model.py"
   ]
  },
  {
   "cell_type": "code",
   "execution_count": 2,
   "id": "ab6be028-7c19-4d98-a4a0-cafdfdeaebb2",
   "metadata": {},
   "outputs": [],
   "source": [
    "# register minio block\n",
    "!python ./scripts/register_minio_block.py"
   ]
  },
  {
   "cell_type": "code",
   "execution_count": 1,
   "id": "6bbacafe-def8-4739-9e4c-d8fe957c7cc9",
   "metadata": {},
   "outputs": [
    {
     "name": "stdout",
     "output_type": "stream",
     "text": [
      "\u001b[32mFound flow 'Main Registration Flow'\u001b[0m\n",
      "\u001b[32mDeployment YAML created at \u001b[0m\n",
      "\u001b[32m'/home/jovyan/work/scripts/main_flow_deployment.yaml'.\u001b[0m\n",
      "\u001b[32mSuccessfully uploaded 2 files to s3://mlflow-artifacts/\u001b[0m\n",
      "\u001b[32mSuccessfully loaded 'rfc-red-wine'\u001b[0m\n",
      "\u001b[32mDeployment 'Main Registration Flow/rfc-red-wine' successfully created with id \u001b[0m\n",
      "\u001b[32m'a4afb2c2-f369-4c05-a313-920f5acd4506'.\u001b[0m\n",
      "View Deployment in UI: \n",
      "http://prefect-server:4200/deployments/deployment/a4afb2c2-f369-4c05-a313-920f5a\n",
      "cd4506\n",
      "\n",
      "To execute flow runs from this deployment, start an agent that pulls work from \n",
      "the 'default-agent-pool' work pool:\n",
      "\u001b[34m$ prefect agent start -p 'default-agent-pool'\u001b[0m\n",
      "Creating flow run for deployment 'Main Registration Flow/rfc-red-wine'...\n",
      "Created flow run 'hissing-labradoodle'.\n",
      "└── UUID: c14308f9-1e5d-4eb4-8132-0838fcb7435a\n",
      "└── Parameters: {}\n",
      "└── Scheduled start time: 2023-08-12 21:51:36 UTC (now)\n",
      "└── URL: \n",
      "http://prefect-server:4200/flow-runs/flow-run/c14308f9-1e5d-4eb4-8132-0838fcb743\n",
      "5a\n"
     ]
    }
   ],
   "source": [
    "# register & run a new prefect flow deployment\n",
    "# you can adjust the cron parameter for the prefered schedule\n",
    "!prefect deployment build ./scripts/register_best_model.py:main_flow -n rfc-red-wine -p default-agent-pool -q red-wine -sb remote-file-system/minio --cron \"0 0 * * *\" -o ./scripts/main_flow_deployment.yaml\n",
    "!prefect deployment apply ./scripts/main_flow_deployment.yaml\n",
    "!prefect deployment run \"Main Registration Flow/rfc-red-wine\""
   ]
  },
  {
   "cell_type": "code",
   "execution_count": null,
   "id": "23665771-c566-46d8-bab9-0dba73a35477",
   "metadata": {},
   "outputs": [],
   "source": []
  }
 ],
 "metadata": {
  "kernelspec": {
   "display_name": "Python 3 (ipykernel)",
   "language": "python",
   "name": "python3"
  },
  "language_info": {
   "codemirror_mode": {
    "name": "ipython",
    "version": 3
   },
   "file_extension": ".py",
   "mimetype": "text/x-python",
   "name": "python",
   "nbconvert_exporter": "python",
   "pygments_lexer": "ipython3",
   "version": "3.11.4"
  }
 },
 "nbformat": 4,
 "nbformat_minor": 5
}
