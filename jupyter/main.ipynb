{
 "cells": [
  {
   "cell_type": "markdown",
   "id": "8cad7903-b461-43d5-bdc4-1a1a8bce7597",
   "metadata": {},
   "source": [
    "# TODO\n",
    "- automatic creation of the bucket;\n",
    "- automatic creation of credentials (test root)\n",
    "- model service\n",
    "- prefect deployment"
   ]
  },
  {
   "cell_type": "code",
   "execution_count": null,
   "id": "1d71efef-eca2-4a06-b1fb-eb5d085ccdd3",
   "metadata": {},
   "outputs": [],
   "source": []
  },
  {
   "cell_type": "code",
   "execution_count": null,
   "id": "298de113-c7fc-43a7-b43b-6236cc178993",
   "metadata": {},
   "outputs": [],
   "source": []
  },
  {
   "cell_type": "code",
   "execution_count": null,
   "id": "c3f0c0cf-9209-4815-9d65-2e82056e51e0",
   "metadata": {},
   "outputs": [],
   "source": []
  },
  {
   "cell_type": "code",
   "execution_count": 1,
   "id": "8c8890d0-4fea-49b2-8662-63ab8ad4e9a1",
   "metadata": {},
   "outputs": [],
   "source": [
    "# download dataset and store it in s3 bucket\n",
    "!python ./scripts/download_data.py"
   ]
  },
  {
   "cell_type": "code",
   "execution_count": 1,
   "id": "deacc780-cc86-43b5-af98-3ecb2cc2e50d",
   "metadata": {},
   "outputs": [
    {
     "name": "stdout",
     "output_type": "stream",
     "text": [
      "2023/08/05 19:27:18 INFO mlflow.tracking.fluent: Experiment with name 'red-wine-quality-hyperopt' does not exist. Creating a new experiment.\n",
      "\u001b[32m[I 2023-08-05 19:27:18,281]\u001b[0m A new study created in memory with name: no-name-4bdb5175-49d5-4004-a5cc-7944106477e9\u001b[0m\n",
      "\u001b[32m[I 2023-08-05 19:27:20,162]\u001b[0m Trial 0 finished with value: 0.645 and parameters: {'n_estimators': 1100, 'max_features': 'sqrt', 'max_depth': 60, 'bootstrap': False, 'min_samples_leaf': 2, 'min_samples_split': 10, 'random_state': 0, 'n_jobs': -1}. Best is trial 0 with value: 0.645.\u001b[0m\n",
      "\u001b[32m[I 2023-08-05 19:27:22,589]\u001b[0m Trial 1 finished with value: 0.63 and parameters: {'n_estimators': 1950, 'max_features': 'log2', 'max_depth': 60, 'bootstrap': False, 'min_samples_leaf': 1, 'min_samples_split': 2, 'random_state': 0, 'n_jobs': -1}. Best is trial 0 with value: 0.645.\u001b[0m\n",
      "\u001b[32m[I 2023-08-05 19:27:22,758]\u001b[0m Trial 2 finished with value: 0.66 and parameters: {'n_estimators': 50, 'max_features': 'sqrt', 'max_depth': 90, 'bootstrap': True, 'min_samples_leaf': 2, 'min_samples_split': 9, 'random_state': 0, 'n_jobs': -1}. Best is trial 2 with value: 0.66.\u001b[0m\n",
      "\u001b[32m[I 2023-08-05 19:27:23,193]\u001b[0m Trial 3 finished with value: 0.645 and parameters: {'n_estimators': 250, 'max_features': 'sqrt', 'max_depth': 100, 'bootstrap': True, 'min_samples_leaf': 2, 'min_samples_split': 8, 'random_state': 0, 'n_jobs': -1}. Best is trial 2 with value: 0.66.\u001b[0m\n",
      "\u001b[32m[I 2023-08-05 19:27:24,402]\u001b[0m Trial 4 finished with value: 0.6275 and parameters: {'n_estimators': 950, 'max_features': 'sqrt', 'max_depth': 70, 'bootstrap': False, 'min_samples_leaf': 4, 'min_samples_split': 8, 'random_state': 0, 'n_jobs': -1}. Best is trial 2 with value: 0.66.\u001b[0m\n",
      "\u001b[32m[I 2023-08-05 19:27:25,337]\u001b[0m Trial 5 finished with value: 0.6375 and parameters: {'n_estimators': 750, 'max_features': 'log2', 'max_depth': 10, 'bootstrap': False, 'min_samples_leaf': 1, 'min_samples_split': 3, 'random_state': 0, 'n_jobs': -1}. Best is trial 2 with value: 0.66.\u001b[0m\n",
      "\u001b[32m[I 2023-08-05 19:27:26,289]\u001b[0m Trial 6 finished with value: 0.65 and parameters: {'n_estimators': 650, 'max_features': 'log2', 'max_depth': 50, 'bootstrap': True, 'min_samples_leaf': 1, 'min_samples_split': 3, 'random_state': 0, 'n_jobs': -1}. Best is trial 2 with value: 0.66.\u001b[0m\n",
      "\u001b[32m[I 2023-08-05 19:27:28,325]\u001b[0m Trial 7 finished with value: 0.635 and parameters: {'n_estimators': 1350, 'max_features': 'log2', 'max_depth': 30, 'bootstrap': True, 'min_samples_leaf': 3, 'min_samples_split': 3, 'random_state': 0, 'n_jobs': -1}. Best is trial 2 with value: 0.66.\u001b[0m\n",
      "\u001b[32m[I 2023-08-05 19:27:28,973]\u001b[0m Trial 8 finished with value: 0.62 and parameters: {'n_estimators': 400, 'max_features': 'log2', 'max_depth': 10, 'bootstrap': True, 'min_samples_leaf': 4, 'min_samples_split': 6, 'random_state': 0, 'n_jobs': -1}. Best is trial 2 with value: 0.66.\u001b[0m\n",
      "\u001b[32m[I 2023-08-05 19:27:31,991]\u001b[0m Trial 9 finished with value: 0.6425 and parameters: {'n_estimators': 2000, 'max_features': 'log2', 'max_depth': 10, 'bootstrap': True, 'min_samples_leaf': 2, 'min_samples_split': 3, 'random_state': 0, 'n_jobs': -1}. Best is trial 2 with value: 0.66.\u001b[0m\n",
      "\u001b[32m[I 2023-08-05 19:27:32,133]\u001b[0m Trial 10 finished with value: 0.625 and parameters: {'n_estimators': 50, 'max_features': 'sqrt', 'max_depth': 100, 'bootstrap': True, 'min_samples_leaf': 3, 'min_samples_split': 10, 'random_state': 0, 'n_jobs': -1}. Best is trial 2 with value: 0.66.\u001b[0m\n",
      "\u001b[32m[I 2023-08-05 19:27:33,034]\u001b[0m Trial 11 finished with value: 0.6475 and parameters: {'n_estimators': 550, 'max_features': 'sqrt', 'max_depth': 80, 'bootstrap': True, 'min_samples_leaf': 1, 'min_samples_split': 5, 'random_state': 0, 'n_jobs': -1}. Best is trial 2 with value: 0.66.\u001b[0m\n",
      "\u001b[32m[I 2023-08-05 19:27:33,328]\u001b[0m Trial 12 finished with value: 0.635 and parameters: {'n_estimators': 150, 'max_features': 'log2', 'max_depth': 40, 'bootstrap': True, 'min_samples_leaf': 1, 'min_samples_split': 8, 'random_state': 0, 'n_jobs': -1}. Best is trial 2 with value: 0.66.\u001b[0m\n",
      "\u001b[32m[I 2023-08-05 19:27:34,323]\u001b[0m Trial 13 finished with value: 0.6375 and parameters: {'n_estimators': 650, 'max_features': 'sqrt', 'max_depth': 40, 'bootstrap': True, 'min_samples_leaf': 2, 'min_samples_split': 5, 'random_state': 0, 'n_jobs': -1}. Best is trial 2 with value: 0.66.\u001b[0m\n",
      "\u001b[32m[I 2023-08-05 19:27:36,446]\u001b[0m Trial 14 finished with value: 0.6325 and parameters: {'n_estimators': 1450, 'max_features': 'log2', 'max_depth': 80, 'bootstrap': True, 'min_samples_leaf': 3, 'min_samples_split': 7, 'random_state': 0, 'n_jobs': -1}. Best is trial 2 with value: 0.66.\u001b[0m\n",
      "\u001b[32m[I 2023-08-05 19:27:37,176]\u001b[0m Trial 15 finished with value: 0.64 and parameters: {'n_estimators': 450, 'max_features': 'sqrt', 'max_depth': 80, 'bootstrap': True, 'min_samples_leaf': 1, 'min_samples_split': 5, 'random_state': 0, 'n_jobs': -1}. Best is trial 2 with value: 0.66.\u001b[0m\n",
      "\u001b[32m[I 2023-08-05 19:27:38,382]\u001b[0m Trial 16 finished with value: 0.635 and parameters: {'n_estimators': 800, 'max_features': 'log2', 'max_depth': 40, 'bootstrap': True, 'min_samples_leaf': 2, 'min_samples_split': 9, 'random_state': 0, 'n_jobs': -1}. Best is trial 2 with value: 0.66.\u001b[0m\n",
      "\u001b[32m[I 2023-08-05 19:27:40,224]\u001b[0m Trial 17 finished with value: 0.6525 and parameters: {'n_estimators': 1200, 'max_features': 'sqrt', 'max_depth': 90, 'bootstrap': True, 'min_samples_leaf': 1, 'min_samples_split': 4, 'random_state': 0, 'n_jobs': -1}. Best is trial 2 with value: 0.66.\u001b[0m\n",
      "\u001b[32m[I 2023-08-05 19:27:42,231]\u001b[0m Trial 18 finished with value: 0.6425 and parameters: {'n_estimators': 1650, 'max_features': 'sqrt', 'max_depth': 90, 'bootstrap': False, 'min_samples_leaf': 2, 'min_samples_split': 6, 'random_state': 0, 'n_jobs': -1}. Best is trial 2 with value: 0.66.\u001b[0m\n",
      "\u001b[32m[I 2023-08-05 19:27:44,089]\u001b[0m Trial 19 finished with value: 0.64 and parameters: {'n_estimators': 1200, 'max_features': 'sqrt', 'max_depth': 90, 'bootstrap': True, 'min_samples_leaf': 3, 'min_samples_split': 4, 'random_state': 0, 'n_jobs': -1}. Best is trial 2 with value: 0.66.\u001b[0m\n",
      "\u001b[32m[I 2023-08-05 19:27:46,365]\u001b[0m Trial 20 finished with value: 0.65 and parameters: {'n_estimators': 1550, 'max_features': 'sqrt', 'max_depth': 70, 'bootstrap': True, 'min_samples_leaf': 1, 'min_samples_split': 7, 'random_state': 0, 'n_jobs': -1}. Best is trial 2 with value: 0.66.\u001b[0m\n",
      "\u001b[32m[I 2023-08-05 19:27:47,754]\u001b[0m Trial 21 finished with value: 0.655 and parameters: {'n_estimators': 950, 'max_features': 'sqrt', 'max_depth': 50, 'bootstrap': True, 'min_samples_leaf': 1, 'min_samples_split': 2, 'random_state': 0, 'n_jobs': -1}. Best is trial 2 with value: 0.66.\u001b[0m\n",
      "\u001b[32m[I 2023-08-05 19:27:49,148]\u001b[0m Trial 22 finished with value: 0.655 and parameters: {'n_estimators': 950, 'max_features': 'sqrt', 'max_depth': 90, 'bootstrap': True, 'min_samples_leaf': 1, 'min_samples_split': 2, 'random_state': 0, 'n_jobs': -1}. Best is trial 2 with value: 0.66.\u001b[0m\n",
      "\u001b[32m[I 2023-08-05 19:27:50,451]\u001b[0m Trial 23 finished with value: 0.635 and parameters: {'n_estimators': 900, 'max_features': 'sqrt', 'max_depth': 70, 'bootstrap': True, 'min_samples_leaf': 2, 'min_samples_split': 2, 'random_state': 0, 'n_jobs': -1}. Best is trial 2 with value: 0.66.\u001b[0m\n",
      "\u001b[32m[I 2023-08-05 19:27:50,962]\u001b[0m Trial 24 finished with value: 0.6425 and parameters: {'n_estimators': 300, 'max_features': 'sqrt', 'max_depth': 50, 'bootstrap': True, 'min_samples_leaf': 1, 'min_samples_split': 2, 'random_state': 0, 'n_jobs': -1}. Best is trial 2 with value: 0.66.\u001b[0m\n",
      "\u001b[32m[I 2023-08-05 19:27:52,485]\u001b[0m Trial 25 finished with value: 0.64 and parameters: {'n_estimators': 1050, 'max_features': 'sqrt', 'max_depth': 30, 'bootstrap': True, 'min_samples_leaf': 2, 'min_samples_split': 4, 'random_state': 0, 'n_jobs': -1}. Best is trial 2 with value: 0.66.\u001b[0m\n",
      "\u001b[32m[I 2023-08-05 19:27:54,949]\u001b[0m Trial 26 finished with value: 0.6425 and parameters: {'n_estimators': 1750, 'max_features': 'sqrt', 'max_depth': 100, 'bootstrap': True, 'min_samples_leaf': 1, 'min_samples_split': 9, 'random_state': 0, 'n_jobs': -1}. Best is trial 2 with value: 0.66.\u001b[0m\n",
      "\u001b[32m[I 2023-08-05 19:27:56,617]\u001b[0m Trial 27 finished with value: 0.63 and parameters: {'n_estimators': 1350, 'max_features': 'sqrt', 'max_depth': 60, 'bootstrap': False, 'min_samples_leaf': 1, 'min_samples_split': 2, 'random_state': 0, 'n_jobs': -1}. Best is trial 2 with value: 0.66.\u001b[0m\n",
      "\u001b[32m[I 2023-08-05 19:27:57,832]\u001b[0m Trial 28 finished with value: 0.6475 and parameters: {'n_estimators': 850, 'max_features': 'sqrt', 'max_depth': 90, 'bootstrap': True, 'min_samples_leaf': 2, 'min_samples_split': 6, 'random_state': 0, 'n_jobs': -1}. Best is trial 2 with value: 0.66.\u001b[0m\n",
      "\u001b[32m[I 2023-08-05 19:27:59,102]\u001b[0m Trial 29 finished with value: 0.635 and parameters: {'n_estimators': 1100, 'max_features': 'sqrt', 'max_depth': 60, 'bootstrap': False, 'min_samples_leaf': 3, 'min_samples_split': 10, 'random_state': 0, 'n_jobs': -1}. Best is trial 2 with value: 0.66.\u001b[0m\n",
      "\u001b[32m[I 2023-08-05 19:27:59,957]\u001b[0m Trial 30 finished with value: 0.6475 and parameters: {'n_estimators': 550, 'max_features': 'sqrt', 'max_depth': 70, 'bootstrap': True, 'min_samples_leaf': 2, 'min_samples_split': 7, 'random_state': 0, 'n_jobs': -1}. Best is trial 2 with value: 0.66.\u001b[0m\n",
      "\u001b[32m[I 2023-08-05 19:28:01,764]\u001b[0m Trial 31 finished with value: 0.65 and parameters: {'n_estimators': 1250, 'max_features': 'sqrt', 'max_depth': 90, 'bootstrap': True, 'min_samples_leaf': 1, 'min_samples_split': 4, 'random_state': 0, 'n_jobs': -1}. Best is trial 2 with value: 0.66.\u001b[0m\n",
      "\u001b[32m[I 2023-08-05 19:28:03,515]\u001b[0m Trial 32 finished with value: 0.655 and parameters: {'n_estimators': 1200, 'max_features': 'sqrt', 'max_depth': 80, 'bootstrap': True, 'min_samples_leaf': 1, 'min_samples_split': 2, 'random_state': 0, 'n_jobs': -1}. Best is trial 2 with value: 0.66.\u001b[0m\n",
      "\u001b[32m[I 2023-08-05 19:28:06,189]\u001b[0m Trial 33 finished with value: 0.6525 and parameters: {'n_estimators': 1850, 'max_features': 'sqrt', 'max_depth': 80, 'bootstrap': True, 'min_samples_leaf': 1, 'min_samples_split': 2, 'random_state': 0, 'n_jobs': -1}. Best is trial 2 with value: 0.66.\u001b[0m\n",
      "\u001b[32m[I 2023-08-05 19:28:07,354]\u001b[0m Trial 34 finished with value: 0.63 and parameters: {'n_estimators': 950, 'max_features': 'sqrt', 'max_depth': 80, 'bootstrap': False, 'min_samples_leaf': 1, 'min_samples_split': 2, 'random_state': 0, 'n_jobs': -1}. Best is trial 2 with value: 0.66.\u001b[0m\n",
      "\u001b[32m[I 2023-08-05 19:28:08,787]\u001b[0m Trial 35 finished with value: 0.64 and parameters: {'n_estimators': 1000, 'max_features': 'sqrt', 'max_depth': 100, 'bootstrap': True, 'min_samples_leaf': 2, 'min_samples_split': 3, 'random_state': 0, 'n_jobs': -1}. Best is trial 2 with value: 0.66.\u001b[0m\n",
      "\u001b[32m[I 2023-08-05 19:28:09,836]\u001b[0m Trial 36 finished with value: 0.65 and parameters: {'n_estimators': 700, 'max_features': 'sqrt', 'max_depth': 50, 'bootstrap': True, 'min_samples_leaf': 1, 'min_samples_split': 3, 'random_state': 0, 'n_jobs': -1}. Best is trial 2 with value: 0.66.\u001b[0m\n",
      "\u001b[32m[I 2023-08-05 19:28:11,691]\u001b[0m Trial 37 finished with value: 0.63 and parameters: {'n_estimators': 1450, 'max_features': 'sqrt', 'max_depth': 70, 'bootstrap': False, 'min_samples_leaf': 4, 'min_samples_split': 2, 'random_state': 0, 'n_jobs': -1}. Best is trial 2 with value: 0.66.\u001b[0m\n",
      "\u001b[32m[I 2023-08-05 19:28:13,571]\u001b[0m Trial 38 finished with value: 0.645 and parameters: {'n_estimators': 1150, 'max_features': 'sqrt', 'max_depth': 90, 'bootstrap': True, 'min_samples_leaf': 1, 'min_samples_split': 3, 'random_state': 0, 'n_jobs': -1}. Best is trial 2 with value: 0.66.\u001b[0m\n",
      "\u001b[32m[I 2023-08-05 19:28:15,697]\u001b[0m Trial 39 finished with value: 0.6475 and parameters: {'n_estimators': 1300, 'max_features': 'sqrt', 'max_depth': 100, 'bootstrap': True, 'min_samples_leaf': 1, 'min_samples_split': 3, 'random_state': 0, 'n_jobs': -1}. Best is trial 2 with value: 0.66.\u001b[0m\n",
      "\u001b[32m[I 2023-08-05 19:28:16,216]\u001b[0m Trial 40 finished with value: 0.6275 and parameters: {'n_estimators': 250, 'max_features': 'sqrt', 'max_depth': 20, 'bootstrap': True, 'min_samples_leaf': 2, 'min_samples_split': 9, 'random_state': 0, 'n_jobs': -1}. Best is trial 2 with value: 0.66.\u001b[0m\n",
      "\u001b[32m[I 2023-08-05 19:28:18,273]\u001b[0m Trial 41 finished with value: 0.6525 and parameters: {'n_estimators': 1150, 'max_features': 'sqrt', 'max_depth': 90, 'bootstrap': True, 'min_samples_leaf': 1, 'min_samples_split': 4, 'random_state': 0, 'n_jobs': -1}. Best is trial 2 with value: 0.66.\u001b[0m\n",
      "\u001b[32m[I 2023-08-05 19:28:19,973]\u001b[0m Trial 42 finished with value: 0.655 and parameters: {'n_estimators': 1000, 'max_features': 'sqrt', 'max_depth': 100, 'bootstrap': True, 'min_samples_leaf': 1, 'min_samples_split': 2, 'random_state': 0, 'n_jobs': -1}. Best is trial 2 with value: 0.66.\u001b[0m\n",
      "\u001b[32m[I 2023-08-05 19:28:21,548]\u001b[0m Trial 43 finished with value: 0.655 and parameters: {'n_estimators': 1000, 'max_features': 'sqrt', 'max_depth': 100, 'bootstrap': True, 'min_samples_leaf': 1, 'min_samples_split': 2, 'random_state': 0, 'n_jobs': -1}. Best is trial 2 with value: 0.66.\u001b[0m\n",
      "\u001b[32m[I 2023-08-05 19:28:22,937]\u001b[0m Trial 44 finished with value: 0.6475 and parameters: {'n_estimators': 850, 'max_features': 'sqrt', 'max_depth': 100, 'bootstrap': True, 'min_samples_leaf': 1, 'min_samples_split': 3, 'random_state': 0, 'n_jobs': -1}. Best is trial 2 with value: 0.66.\u001b[0m\n",
      "\u001b[32m[I 2023-08-05 19:28:23,814]\u001b[0m Trial 45 finished with value: 0.645 and parameters: {'n_estimators': 550, 'max_features': 'log2', 'max_depth': 80, 'bootstrap': True, 'min_samples_leaf': 1, 'min_samples_split': 2, 'random_state': 0, 'n_jobs': -1}. Best is trial 2 with value: 0.66.\u001b[0m\n",
      "\u001b[32m[I 2023-08-05 19:28:24,884]\u001b[0m Trial 46 finished with value: 0.65 and parameters: {'n_estimators': 700, 'max_features': 'sqrt', 'max_depth': 50, 'bootstrap': True, 'min_samples_leaf': 1, 'min_samples_split': 3, 'random_state': 0, 'n_jobs': -1}. Best is trial 2 with value: 0.66.\u001b[0m\n",
      "\u001b[32m[I 2023-08-05 19:28:26,933]\u001b[0m Trial 47 finished with value: 0.64 and parameters: {'n_estimators': 1400, 'max_features': 'log2', 'max_depth': 60, 'bootstrap': True, 'min_samples_leaf': 2, 'min_samples_split': 2, 'random_state': 0, 'n_jobs': -1}. Best is trial 2 with value: 0.66.\u001b[0m\n",
      "\u001b[32m[I 2023-08-05 19:28:27,126]\u001b[0m Trial 48 finished with value: 0.635 and parameters: {'n_estimators': 100, 'max_features': 'sqrt', 'max_depth': 100, 'bootstrap': False, 'min_samples_leaf': 1, 'min_samples_split': 5, 'random_state': 0, 'n_jobs': -1}. Best is trial 2 with value: 0.66.\u001b[0m\n",
      "\u001b[32m[I 2023-08-05 19:28:28,661]\u001b[0m Trial 49 finished with value: 0.62 and parameters: {'n_estimators': 1050, 'max_features': 'sqrt', 'max_depth': 90, 'bootstrap': True, 'min_samples_leaf': 4, 'min_samples_split': 8, 'random_state': 0, 'n_jobs': -1}. Best is trial 2 with value: 0.66.\u001b[0m\n",
      "\u001b[32m[I 2023-08-05 19:28:31,285]\u001b[0m Trial 50 finished with value: 0.65 and parameters: {'n_estimators': 1550, 'max_features': 'sqrt', 'max_depth': 80, 'bootstrap': True, 'min_samples_leaf': 1, 'min_samples_split': 3, 'random_state': 0, 'n_jobs': -1}. Best is trial 2 with value: 0.66.\u001b[0m\n",
      "\u001b[32m[I 2023-08-05 19:28:32,951]\u001b[0m Trial 51 finished with value: 0.655 and parameters: {'n_estimators': 950, 'max_features': 'sqrt', 'max_depth': 100, 'bootstrap': True, 'min_samples_leaf': 1, 'min_samples_split': 2, 'random_state': 0, 'n_jobs': -1}. Best is trial 2 with value: 0.66.\u001b[0m\n",
      "\u001b[32m[I 2023-08-05 19:28:34,396]\u001b[0m Trial 52 finished with value: 0.645 and parameters: {'n_estimators': 800, 'max_features': 'sqrt', 'max_depth': 100, 'bootstrap': True, 'min_samples_leaf': 1, 'min_samples_split': 2, 'random_state': 0, 'n_jobs': -1}. Best is trial 2 with value: 0.66.\u001b[0m\n",
      "\u001b[32m[I 2023-08-05 19:28:36,196]\u001b[0m Trial 53 finished with value: 0.645 and parameters: {'n_estimators': 1050, 'max_features': 'sqrt', 'max_depth': 90, 'bootstrap': True, 'min_samples_leaf': 1, 'min_samples_split': 3, 'random_state': 0, 'n_jobs': -1}. Best is trial 2 with value: 0.66.\u001b[0m\n",
      "\u001b[32m[I 2023-08-05 19:28:37,574]\u001b[0m Trial 54 finished with value: 0.655 and parameters: {'n_estimators': 900, 'max_features': 'sqrt', 'max_depth': 100, 'bootstrap': True, 'min_samples_leaf': 1, 'min_samples_split': 2, 'random_state': 0, 'n_jobs': -1}. Best is trial 2 with value: 0.66.\u001b[0m\n",
      "\u001b[32m[I 2023-08-05 19:28:39,482]\u001b[0m Trial 55 finished with value: 0.65 and parameters: {'n_estimators': 1250, 'max_features': 'log2', 'max_depth': 90, 'bootstrap': True, 'min_samples_leaf': 1, 'min_samples_split': 2, 'random_state': 0, 'n_jobs': -1}. Best is trial 2 with value: 0.66.\u001b[0m\n",
      "\u001b[32m[I 2023-08-05 19:28:41,192]\u001b[0m Trial 56 finished with value: 0.6375 and parameters: {'n_estimators': 1150, 'max_features': 'sqrt', 'max_depth': 40, 'bootstrap': True, 'min_samples_leaf': 2, 'min_samples_split': 3, 'random_state': 0, 'n_jobs': -1}. Best is trial 2 with value: 0.66.\u001b[0m\n",
      "\u001b[32m[I 2023-08-05 19:28:42,337]\u001b[0m Trial 57 finished with value: 0.6525 and parameters: {'n_estimators': 750, 'max_features': 'sqrt', 'max_depth': 80, 'bootstrap': True, 'min_samples_leaf': 1, 'min_samples_split': 2, 'random_state': 0, 'n_jobs': -1}. Best is trial 2 with value: 0.66.\u001b[0m\n",
      "\u001b[32m[I 2023-08-05 19:28:42,998]\u001b[0m Trial 58 finished with value: 0.63 and parameters: {'n_estimators': 400, 'max_features': 'sqrt', 'max_depth': 100, 'bootstrap': True, 'min_samples_leaf': 3, 'min_samples_split': 9, 'random_state': 0, 'n_jobs': -1}. Best is trial 2 with value: 0.66.\u001b[0m\n",
      "\u001b[32m[I 2023-08-05 19:28:44,516]\u001b[0m Trial 59 finished with value: 0.655 and parameters: {'n_estimators': 950, 'max_features': 'log2', 'max_depth': 90, 'bootstrap': True, 'min_samples_leaf': 1, 'min_samples_split': 2, 'random_state': 0, 'n_jobs': -1}. Best is trial 2 with value: 0.66.\u001b[0m\n",
      "\u001b[32m[I 2023-08-05 19:28:45,162]\u001b[0m Trial 60 finished with value: 0.6375 and parameters: {'n_estimators': 450, 'max_features': 'sqrt', 'max_depth': 30, 'bootstrap': False, 'min_samples_leaf': 2, 'min_samples_split': 4, 'random_state': 0, 'n_jobs': -1}. Best is trial 2 with value: 0.66.\u001b[0m\n",
      "\u001b[32m[I 2023-08-05 19:28:46,707]\u001b[0m Trial 61 finished with value: 0.655 and parameters: {'n_estimators': 1000, 'max_features': 'sqrt', 'max_depth': 100, 'bootstrap': True, 'min_samples_leaf': 1, 'min_samples_split': 2, 'random_state': 0, 'n_jobs': -1}. Best is trial 2 with value: 0.66.\u001b[0m\n",
      "\u001b[32m[I 2023-08-05 19:28:48,348]\u001b[0m Trial 62 finished with value: 0.65 and parameters: {'n_estimators': 1100, 'max_features': 'sqrt', 'max_depth': 100, 'bootstrap': True, 'min_samples_leaf': 1, 'min_samples_split': 2, 'random_state': 0, 'n_jobs': -1}. Best is trial 2 with value: 0.66.\u001b[0m\n",
      "\u001b[32m[I 2023-08-05 19:28:49,769]\u001b[0m Trial 63 finished with value: 0.655 and parameters: {'n_estimators': 950, 'max_features': 'sqrt', 'max_depth': 100, 'bootstrap': True, 'min_samples_leaf': 1, 'min_samples_split': 2, 'random_state': 0, 'n_jobs': -1}. Best is trial 2 with value: 0.66.\u001b[0m\n",
      "\u001b[32m[I 2023-08-05 19:28:50,933]\u001b[0m Trial 64 finished with value: 0.6425 and parameters: {'n_estimators': 800, 'max_features': 'sqrt', 'max_depth': 90, 'bootstrap': True, 'min_samples_leaf': 1, 'min_samples_split': 8, 'random_state': 0, 'n_jobs': -1}. Best is trial 2 with value: 0.66.\u001b[0m\n",
      "\u001b[32m[I 2023-08-05 19:28:51,854]\u001b[0m Trial 65 finished with value: 0.6575 and parameters: {'n_estimators': 600, 'max_features': 'sqrt', 'max_depth': 90, 'bootstrap': True, 'min_samples_leaf': 1, 'min_samples_split': 3, 'random_state': 0, 'n_jobs': -1}. Best is trial 2 with value: 0.66.\u001b[0m\n",
      "\u001b[32m[I 2023-08-05 19:28:52,135]\u001b[0m Trial 66 finished with value: 0.6625 and parameters: {'n_estimators': 150, 'max_features': 'sqrt', 'max_depth': 70, 'bootstrap': True, 'min_samples_leaf': 1, 'min_samples_split': 3, 'random_state': 0, 'n_jobs': -1}. Best is trial 66 with value: 0.6625.\u001b[0m\n",
      "\u001b[32m[I 2023-08-05 19:28:52,498]\u001b[0m Trial 67 finished with value: 0.6525 and parameters: {'n_estimators': 200, 'max_features': 'sqrt', 'max_depth': 70, 'bootstrap': True, 'min_samples_leaf': 2, 'min_samples_split': 3, 'random_state': 0, 'n_jobs': -1}. Best is trial 66 with value: 0.6625.\u001b[0m\n",
      "\u001b[32m[I 2023-08-05 19:28:52,722]\u001b[0m Trial 68 finished with value: 0.6475 and parameters: {'n_estimators': 100, 'max_features': 'sqrt', 'max_depth': 80, 'bootstrap': True, 'min_samples_leaf': 1, 'min_samples_split': 4, 'random_state': 0, 'n_jobs': -1}. Best is trial 66 with value: 0.6625.\u001b[0m\n",
      "\u001b[32m[I 2023-08-05 19:28:53,067]\u001b[0m Trial 69 finished with value: 0.6225 and parameters: {'n_estimators': 200, 'max_features': 'sqrt', 'max_depth': 70, 'bootstrap': True, 'min_samples_leaf': 3, 'min_samples_split': 10, 'random_state': 0, 'n_jobs': -1}. Best is trial 66 with value: 0.6625.\u001b[0m\n",
      "\u001b[32m[I 2023-08-05 19:28:53,210]\u001b[0m Trial 70 finished with value: 0.64 and parameters: {'n_estimators': 50, 'max_features': 'sqrt', 'max_depth': 80, 'bootstrap': True, 'min_samples_leaf': 1, 'min_samples_split': 7, 'random_state': 0, 'n_jobs': -1}. Best is trial 66 with value: 0.6625.\u001b[0m\n",
      "\u001b[32m[I 2023-08-05 19:28:53,786]\u001b[0m Trial 71 finished with value: 0.6625 and parameters: {'n_estimators': 350, 'max_features': 'sqrt', 'max_depth': 90, 'bootstrap': True, 'min_samples_leaf': 1, 'min_samples_split': 3, 'random_state': 0, 'n_jobs': -1}. Best is trial 66 with value: 0.6625.\u001b[0m\n",
      "\u001b[32m[I 2023-08-05 19:28:54,350]\u001b[0m Trial 72 finished with value: 0.6475 and parameters: {'n_estimators': 350, 'max_features': 'sqrt', 'max_depth': 90, 'bootstrap': True, 'min_samples_leaf': 1, 'min_samples_split': 5, 'random_state': 0, 'n_jobs': -1}. Best is trial 66 with value: 0.6625.\u001b[0m\n",
      "\u001b[32m[I 2023-08-05 19:28:54,856]\u001b[0m Trial 73 finished with value: 0.66 and parameters: {'n_estimators': 300, 'max_features': 'sqrt', 'max_depth': 80, 'bootstrap': True, 'min_samples_leaf': 1, 'min_samples_split': 3, 'random_state': 0, 'n_jobs': -1}. Best is trial 66 with value: 0.6625.\u001b[0m\n",
      "\u001b[32m[I 2023-08-05 19:28:55,354]\u001b[0m Trial 74 finished with value: 0.65 and parameters: {'n_estimators': 300, 'max_features': 'sqrt', 'max_depth': 80, 'bootstrap': True, 'min_samples_leaf': 1, 'min_samples_split': 4, 'random_state': 0, 'n_jobs': -1}. Best is trial 66 with value: 0.6625.\u001b[0m\n",
      "\u001b[32m[I 2023-08-05 19:28:55,641]\u001b[0m Trial 75 finished with value: 0.6625 and parameters: {'n_estimators': 150, 'max_features': 'sqrt', 'max_depth': 80, 'bootstrap': True, 'min_samples_leaf': 1, 'min_samples_split': 3, 'random_state': 0, 'n_jobs': -1}. Best is trial 66 with value: 0.6625.\u001b[0m\n",
      "\u001b[32m[I 2023-08-05 19:28:55,893]\u001b[0m Trial 76 finished with value: 0.6325 and parameters: {'n_estimators': 150, 'max_features': 'sqrt', 'max_depth': 70, 'bootstrap': False, 'min_samples_leaf': 1, 'min_samples_split': 3, 'random_state': 0, 'n_jobs': -1}. Best is trial 66 with value: 0.6625.\u001b[0m\n",
      "\u001b[32m[I 2023-08-05 19:28:56,806]\u001b[0m Trial 77 finished with value: 0.6575 and parameters: {'n_estimators': 600, 'max_features': 'sqrt', 'max_depth': 50, 'bootstrap': True, 'min_samples_leaf': 1, 'min_samples_split': 3, 'random_state': 0, 'n_jobs': -1}. Best is trial 66 with value: 0.6625.\u001b[0m\n",
      "\u001b[32m[I 2023-08-05 19:28:57,462]\u001b[0m Trial 78 finished with value: 0.65 and parameters: {'n_estimators': 300, 'max_features': 'sqrt', 'max_depth': 50, 'bootstrap': True, 'min_samples_leaf': 1, 'min_samples_split': 4, 'random_state': 0, 'n_jobs': -1}. Best is trial 66 with value: 0.6625.\u001b[0m\n",
      "\u001b[32m[I 2023-08-05 19:28:58,110]\u001b[0m Trial 79 finished with value: 0.6475 and parameters: {'n_estimators': 400, 'max_features': 'log2', 'max_depth': 60, 'bootstrap': True, 'min_samples_leaf': 1, 'min_samples_split': 3, 'random_state': 0, 'n_jobs': -1}. Best is trial 66 with value: 0.6625.\u001b[0m\n",
      "\u001b[32m[I 2023-08-05 19:28:58,863]\u001b[0m Trial 80 finished with value: 0.64 and parameters: {'n_estimators': 500, 'max_features': 'sqrt', 'max_depth': 50, 'bootstrap': True, 'min_samples_leaf': 2, 'min_samples_split': 4, 'random_state': 0, 'n_jobs': -1}. Best is trial 66 with value: 0.6625.\u001b[0m\n",
      "\u001b[32m[I 2023-08-05 19:28:59,778]\u001b[0m Trial 81 finished with value: 0.6575 and parameters: {'n_estimators': 600, 'max_features': 'sqrt', 'max_depth': 50, 'bootstrap': True, 'min_samples_leaf': 1, 'min_samples_split': 3, 'random_state': 0, 'n_jobs': -1}. Best is trial 66 with value: 0.6625.\u001b[0m\n",
      "\u001b[32m[I 2023-08-05 19:29:00,689]\u001b[0m Trial 82 finished with value: 0.6575 and parameters: {'n_estimators': 600, 'max_features': 'sqrt', 'max_depth': 50, 'bootstrap': True, 'min_samples_leaf': 1, 'min_samples_split': 3, 'random_state': 0, 'n_jobs': -1}. Best is trial 66 with value: 0.6625.\u001b[0m\n",
      "\u001b[32m[I 2023-08-05 19:29:01,660]\u001b[0m Trial 83 finished with value: 0.65 and parameters: {'n_estimators': 650, 'max_features': 'sqrt', 'max_depth': 40, 'bootstrap': True, 'min_samples_leaf': 1, 'min_samples_split': 3, 'random_state': 0, 'n_jobs': -1}. Best is trial 66 with value: 0.6625.\u001b[0m\n",
      "\u001b[32m[I 2023-08-05 19:29:02,576]\u001b[0m Trial 84 finished with value: 0.6575 and parameters: {'n_estimators': 600, 'max_features': 'sqrt', 'max_depth': 60, 'bootstrap': True, 'min_samples_leaf': 1, 'min_samples_split': 3, 'random_state': 0, 'n_jobs': -1}. Best is trial 66 with value: 0.6625.\u001b[0m\n",
      "\u001b[32m[I 2023-08-05 19:29:02,928]\u001b[0m Trial 85 finished with value: 0.66 and parameters: {'n_estimators': 200, 'max_features': 'sqrt', 'max_depth': 40, 'bootstrap': True, 'min_samples_leaf': 1, 'min_samples_split': 4, 'random_state': 0, 'n_jobs': -1}. Best is trial 66 with value: 0.6625.\u001b[0m\n",
      "\u001b[32m[I 2023-08-05 19:29:03,213]\u001b[0m Trial 86 finished with value: 0.6525 and parameters: {'n_estimators': 150, 'max_features': 'sqrt', 'max_depth': 30, 'bootstrap': True, 'min_samples_leaf': 1, 'min_samples_split': 4, 'random_state': 0, 'n_jobs': -1}. Best is trial 66 with value: 0.6625.\u001b[0m\n",
      "\u001b[32m[I 2023-08-05 19:29:03,624]\u001b[0m Trial 87 finished with value: 0.6475 and parameters: {'n_estimators': 250, 'max_features': 'sqrt', 'max_depth': 40, 'bootstrap': True, 'min_samples_leaf': 1, 'min_samples_split': 4, 'random_state': 0, 'n_jobs': -1}. Best is trial 66 with value: 0.6625.\u001b[0m\n",
      "\u001b[32m[I 2023-08-05 19:29:03,861]\u001b[0m Trial 88 finished with value: 0.6275 and parameters: {'n_estimators': 100, 'max_features': 'sqrt', 'max_depth': 70, 'bootstrap': True, 'min_samples_leaf': 1, 'min_samples_split': 6, 'random_state': 0, 'n_jobs': -1}. Best is trial 66 with value: 0.6625.\u001b[0m\n",
      "\u001b[32m[I 2023-08-05 19:29:03,997]\u001b[0m Trial 89 finished with value: 0.62 and parameters: {'n_estimators': 50, 'max_features': 'sqrt', 'max_depth': 40, 'bootstrap': False, 'min_samples_leaf': 1, 'min_samples_split': 3, 'random_state': 0, 'n_jobs': -1}. Best is trial 66 with value: 0.6625.\u001b[0m\n"
     ]
    }
   ],
   "source": [
    "# run manual hyperparameter optimization\n",
    "!python ./scripts/hpo.py 90"
   ]
  },
  {
   "cell_type": "code",
   "execution_count": 2,
   "id": "d4b84596-5e5e-48af-9805-28a62636e25c",
   "metadata": {},
   "outputs": [
    {
     "name": "stdout",
     "output_type": "stream",
     "text": [
      "2023/08/05 19:29:32 INFO mlflow.tracking.fluent: Experiment with name 'red-wine-quality-production' does not exist. Creating a new experiment.\n",
      "19:29:32.914 | \u001b[36mINFO\u001b[0m    | prefect.engine - Created flow run\u001b[35m 'quaint-vole'\u001b[0m for flow\u001b[1;35m 'Main Registration Flow'\u001b[0m\n",
      "19:29:32.915 | \u001b[36mINFO\u001b[0m    | Flow run\u001b[35m 'quaint-vole'\u001b[0m - View at \u001b[94mhttp://prefect-server:4200/flow-runs/flow-run/f4b71da4-3f01-4b13-b93d-9bde0f662747\u001b[0m\n",
      "19:29:33.059 | \u001b[36mINFO\u001b[0m    | Flow run\u001b[35m 'quaint-vole'\u001b[0m - Created task run 'Prepare Data-0' for task 'Prepare Data'\n",
      "19:29:33.060 | \u001b[36mINFO\u001b[0m    | Flow run\u001b[35m 'quaint-vole'\u001b[0m - Executing 'Prepare Data-0' immediately...\n",
      "19:29:33.190 | \u001b[36mINFO\u001b[0m    | Task run 'Prepare Data-0' - Finished in state \u001b[32mCompleted\u001b[0m()\n",
      "19:29:33.203 | \u001b[36mINFO\u001b[0m    | Flow run\u001b[35m 'quaint-vole'\u001b[0m - Created task run 'Get Parameters-0' for task 'Get Parameters'\n",
      "19:29:33.204 | \u001b[36mINFO\u001b[0m    | Flow run\u001b[35m 'quaint-vole'\u001b[0m - Executing 'Get Parameters-0' immediately...\n",
      "19:29:33.273 | \u001b[36mINFO\u001b[0m    | Task run 'Get Parameters-0' - Finished in state \u001b[32mCompleted\u001b[0m()\n",
      "19:29:33.289 | \u001b[36mINFO\u001b[0m    | Flow run\u001b[35m 'quaint-vole'\u001b[0m - Created task run 'Register Best Model-0' for task 'Register Best Model'\n",
      "19:29:33.290 | \u001b[36mINFO\u001b[0m    | Flow run\u001b[35m 'quaint-vole'\u001b[0m - Executing 'Register Best Model-0' immediately...\n",
      "/opt/conda/lib/python3.11/site-packages/_distutils_hack/__init__.py:33: UserWarning: Setuptools is replacing distutils.\n",
      "  warnings.warn(\"Setuptools is replacing distutils.\")\n",
      "Successfully registered model 'sk-rfc-model'.\n",
      "2023/08/05 19:29:35 INFO mlflow.tracking._model_registry.client: Waiting up to 300 seconds for model version to finish creation. Model name: sk-rfc-model, version 1\n",
      "Created version '1' of model 'sk-rfc-model'.\n",
      "19:29:35.563 | \u001b[36mINFO\u001b[0m    | Task run 'Register Best Model-0' - Finished in state \u001b[32mCompleted\u001b[0m()\n",
      "19:29:35.588 | \u001b[36mINFO\u001b[0m    | Flow run\u001b[35m 'quaint-vole'\u001b[0m - Finished in state \u001b[32mCompleted\u001b[0m('All states completed.')\n"
     ]
    }
   ],
   "source": [
    "# manually register the best random forest model via prefect flow\n",
    "!python ./scripts/register_best_model.py"
   ]
  },
  {
   "cell_type": "code",
   "execution_count": 1,
   "id": "ab6be028-7c19-4d98-a4a0-cafdfdeaebb2",
   "metadata": {},
   "outputs": [],
   "source": [
    "# register minio block\n",
    "!python ./scripts/register_minio_block.py"
   ]
  },
  {
   "cell_type": "code",
   "execution_count": 7,
   "id": "6bbacafe-def8-4739-9e4c-d8fe957c7cc9",
   "metadata": {},
   "outputs": [
    {
     "name": "stdout",
     "output_type": "stream",
     "text": [
      "\u001b[32mFound flow 'Main Registration Flow'\u001b[0m\n",
      "\u001b[32mDeployment YAML created at \u001b[0m\n",
      "\u001b[32m'/home/jovyan/work/scripts/main_flow_deployment.yaml'.\u001b[0m\n",
      "\u001b[32mSuccessfully uploaded 2 files to s3://mlflow-artifacts/\u001b[0m\n",
      "\u001b[32mSuccessfully loaded 'rfc-red-wine'\u001b[0m\n",
      "\u001b[32mDeployment 'Main Registration Flow/rfc-red-wine' successfully created with id \u001b[0m\n",
      "\u001b[32m'c74f568b-a3f7-4e8e-a26a-397852014a71'.\u001b[0m\n",
      "View Deployment in UI: \n",
      "http://prefect-server:4200/deployments/deployment/c74f568b-a3f7-4e8e-a26a-397852\n",
      "014a71\n",
      "\n",
      "To execute flow runs from this deployment, start an agent that pulls work from \n",
      "the 'default-agent-pool' work pool:\n",
      "\u001b[34m$ prefect agent start -p 'default-agent-pool'\u001b[0m\n",
      "Creating flow run for deployment 'Main Registration Flow/rfc-red-wine'...\n",
      "Created flow run 'statuesque-tuna'.\n",
      "└── UUID: 43e6c38d-aa2b-4d9a-98c4-e7a255d8147f\n",
      "└── Parameters: {}\n",
      "└── Scheduled start time: 2023-08-07 20:09:07 UTC (now)\n",
      "└── URL: \n",
      "http://prefect-server:4200/flow-runs/flow-run/43e6c38d-aa2b-4d9a-98c4-e7a255d814\n",
      "7f\n"
     ]
    }
   ],
   "source": [
    "# register & run a new prefect flow deployment\n",
    "# you can adjust the cron parameter for the prefered schedule\n",
    "!prefect deployment build ./scripts/register_best_model.py:main_flow -n rfc-red-wine -p default-agent-pool -q red-wine -sb remote-file-system/minio --cron \"0 0 * * *\" -o ./scripts/main_flow_deployment.yaml\n",
    "!prefect deployment apply ./scripts/main_flow_deployment.yaml\n",
    "!prefect deployment run \"Main Registration Flow/rfc-red-wine\""
   ]
  },
  {
   "cell_type": "code",
   "execution_count": null,
   "id": "86859335-c1e1-4e17-a4b2-5e4e5102ed90",
   "metadata": {},
   "outputs": [],
   "source": []
  },
  {
   "cell_type": "code",
   "execution_count": null,
   "id": "0b5790b1-7b5b-4f9a-81d6-caa7c9af32c4",
   "metadata": {},
   "outputs": [],
   "source": []
  }
 ],
 "metadata": {
  "kernelspec": {
   "display_name": "Python 3 (ipykernel)",
   "language": "python",
   "name": "python3"
  },
  "language_info": {
   "codemirror_mode": {
    "name": "ipython",
    "version": 3
   },
   "file_extension": ".py",
   "mimetype": "text/x-python",
   "name": "python",
   "nbconvert_exporter": "python",
   "pygments_lexer": "ipython3",
   "version": "3.11.4"
  }
 },
 "nbformat": 4,
 "nbformat_minor": 5
}
