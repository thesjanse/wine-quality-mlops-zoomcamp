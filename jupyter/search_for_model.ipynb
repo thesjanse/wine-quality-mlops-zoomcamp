{
 "cells": [
  {
   "cell_type": "code",
   "execution_count": 1,
   "id": "f31cabcb-c015-4663-aa0a-8e2b0485df94",
   "metadata": {},
   "outputs": [],
   "source": [
    "import mlflow\n",
    "import os"
   ]
  },
  {
   "cell_type": "code",
   "execution_count": 2,
   "id": "0f250486-8481-40e2-b892-2a35a9259dfd",
   "metadata": {},
   "outputs": [],
   "source": [
    "mlflow.set_tracking_uri(os.getenv(\"MLFLOW_SITE_URL\"))"
   ]
  },
  {
   "cell_type": "code",
   "execution_count": 3,
   "id": "2c031760-92ab-4cb9-8d79-1b8a4496f566",
   "metadata": {},
   "outputs": [],
   "source": [
    "experiment_name = \"red-wine-quality-hyperopt\""
   ]
  },
  {
   "cell_type": "code",
   "execution_count": 23,
   "id": "4b1ac715-33f2-42d0-978a-23e727c29199",
   "metadata": {},
   "outputs": [],
   "source": [
    "run = mlflow.MlflowClient().search_runs(\n",
    "    experiment_ids=dict(mlflow.get_experiment_by_name(experiment_name))[\"experiment_id\"],\n",
    "    filter_string=\"\",\n",
    "    max_results=1,\n",
    "    order_by=[\"metrics.accuracy DESC\", \"params.n_estimators ASC\"],\n",
    ")[0]"
   ]
  },
  {
   "cell_type": "code",
   "execution_count": 24,
   "id": "981c07f4-0f2f-4ee4-916e-5e3c68cb4661",
   "metadata": {},
   "outputs": [
    {
     "data": {
      "text/plain": [
       "<Run: data=<RunData: metrics={'accuracy': 0.6625}, params={'bootstrap': 'True',\n",
       " 'max_depth': '80',\n",
       " 'max_features': 'sqrt',\n",
       " 'min_samples_leaf': '1',\n",
       " 'min_samples_split': '3',\n",
       " 'n_estimators': '150',\n",
       " 'n_jobs': '-1',\n",
       " 'random_state': '0'}, tags={'mlflow.runName': 'agreeable-goose-485',\n",
       " 'mlflow.source.name': './scripts/hpo.py',\n",
       " 'mlflow.source.type': 'LOCAL',\n",
       " 'mlflow.user': 'jovyan',\n",
       " 'model': 'random_forest_classifier'}>, info=<RunInfo: artifact_uri='s3://mlflow-artifacts/1/27b77c6092644e47ad67acca296f5f22/artifacts', end_time=1690634981032, experiment_id='1', lifecycle_stage='active', run_id='27b77c6092644e47ad67acca296f5f22', run_name='agreeable-goose-485', run_uuid='27b77c6092644e47ad67acca296f5f22', start_time=1690634980839, status='FINISHED', user_id='jovyan'>>"
      ]
     },
     "execution_count": 24,
     "metadata": {},
     "output_type": "execute_result"
    }
   ],
   "source": [
    "run"
   ]
  },
  {
   "cell_type": "code",
   "execution_count": 20,
   "id": "6111c09e-c13d-41e3-acad-a63e4d45333c",
   "metadata": {},
   "outputs": [],
   "source": [
    "best_params = run.to_dictionary()[\"data\"][\"params\"]"
   ]
  },
  {
   "cell_type": "code",
   "execution_count": 27,
   "id": "44607655-bbbc-410d-9ea1-1bc5f15b7188",
   "metadata": {},
   "outputs": [
    {
     "data": {
      "text/plain": [
       "{'n_estimators': 150,\n",
       " 'max_features': 'sqrt',\n",
       " 'max_depth': 80,\n",
       " 'bootstrap': True,\n",
       " 'min_samples_leaf': 1,\n",
       " 'min_samples_split': 3,\n",
       " 'random_state': 0,\n",
       " 'n_jobs': -1}"
      ]
     },
     "execution_count": 27,
     "metadata": {},
     "output_type": "execute_result"
    }
   ],
   "source": [
    "best_params"
   ]
  },
  {
   "cell_type": "code",
   "execution_count": 26,
   "id": "404eb470-5691-42d4-88f6-70f8b8a17c78",
   "metadata": {},
   "outputs": [],
   "source": [
    "for k in best_params:\n",
    "    if k in [\"n_estimators\", \"max_depth\", \"min_samples_leaf\", \"min_samples_split\", \"random_state\", \"n_jobs\"]:\n",
    "        best_params[k] = int(best_params[k])\n",
    "    if best_params[k] == 'True':\n",
    "        best_params[k] = True\n",
    "    elif best_params[k] == 'False':\n",
    "        best_params[k] = False"
   ]
  },
  {
   "cell_type": "code",
   "execution_count": 22,
   "id": "6ab0b8d5-55f2-42ff-b67f-dd0df7cbf963",
   "metadata": {},
   "outputs": [
    {
     "data": {
      "text/plain": [
       "['150', 'sqrt', '80', 'True', '1', '3', '0', '-1']"
      ]
     },
     "execution_count": 22,
     "metadata": {},
     "output_type": "execute_result"
    }
   ],
   "source": [
    "[best_params[i] for i in best_params if ]"
   ]
  },
  {
   "cell_type": "code",
   "execution_count": 6,
   "id": "6b5d6e0d-79f7-4d61-ba7f-388ad7e079a4",
   "metadata": {},
   "outputs": [
    {
     "data": {
      "text/plain": [
       "<Run: data=<RunData: metrics={'accuracy': 0.6625}, params={'bootstrap': 'True',\n",
       " 'max_depth': '80',\n",
       " 'max_features': 'sqrt',\n",
       " 'min_samples_leaf': '1',\n",
       " 'min_samples_split': '3',\n",
       " 'n_estimators': '150',\n",
       " 'n_jobs': '-1',\n",
       " 'random_state': '0'}, tags={'mlflow.runName': 'agreeable-goose-485',\n",
       " 'mlflow.source.name': './scripts/hpo.py',\n",
       " 'mlflow.source.type': 'LOCAL',\n",
       " 'mlflow.user': 'jovyan',\n",
       " 'model': 'random_forest_classifier'}>, info=<RunInfo: artifact_uri='s3://mlflow-artifacts/1/27b77c6092644e47ad67acca296f5f22/artifacts', end_time=1690634981032, experiment_id='1', lifecycle_stage='active', run_id='27b77c6092644e47ad67acca296f5f22', run_name='agreeable-goose-485', run_uuid='27b77c6092644e47ad67acca296f5f22', start_time=1690634980839, status='FINISHED', user_id='jovyan'>>"
      ]
     },
     "execution_count": 6,
     "metadata": {},
     "output_type": "execute_result"
    }
   ],
   "source": [
    "run"
   ]
  },
  {
   "cell_type": "code",
   "execution_count": null,
   "id": "50a09eb4-3cf1-464c-84cb-fb458dd31157",
   "metadata": {},
   "outputs": [],
   "source": []
  }
 ],
 "metadata": {
  "kernelspec": {
   "display_name": "Python 3 (ipykernel)",
   "language": "python",
   "name": "python3"
  },
  "language_info": {
   "codemirror_mode": {
    "name": "ipython",
    "version": 3
   },
   "file_extension": ".py",
   "mimetype": "text/x-python",
   "name": "python",
   "nbconvert_exporter": "python",
   "pygments_lexer": "ipython3",
   "version": "3.11.4"
  }
 },
 "nbformat": 4,
 "nbformat_minor": 5
}
