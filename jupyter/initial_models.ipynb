{
 "cells": [
  {
   "cell_type": "code",
   "execution_count": 1,
   "id": "6788150a-e330-4224-9469-10561078512b",
   "metadata": {},
   "outputs": [
    {
     "name": "stderr",
     "output_type": "stream",
     "text": [
      "2023/08/12 19:48:49 INFO mlflow.tracking.fluent: Experiment with name 'red-wine-quality-prediction' does not exist. Creating a new experiment.\n"
     ]
    }
   ],
   "source": [
    "import pandas as pd\n",
    "import mlflow\n",
    "import os\n",
    "\n",
    "from sklearn.model_selection import train_test_split\n",
    "from sklearn.pipeline import make_pipeline\n",
    "from sklearn.preprocessing import StandardScaler\n",
    "from sklearn.svm import LinearSVC, SVC\n",
    "from sklearn.neighbors import KNeighborsClassifier\n",
    "from sklearn.ensemble import RandomForestClassifier\n",
    "from sklearn.metrics import accuracy_score\n",
    "\n",
    "from scripts.hpo import read_from_s3\n",
    "\n",
    "\n",
    "mlflow.set_tracking_uri(os.getenv(\"MLFLOW_SITE_URL\"))\n",
    "mlflow.set_experiment(\"red-wine-quality-prediction\")\n",
    "\n",
    "FILENAME = \"winequality-red\"\n",
    "S3_BUCKET_NAME = os.getenv(\"S3_BUCKET_NAME\")\n",
    "S3_ENDPOINT = os.getenv(\"MLFLOW_S3_ENDPOINT_URL\")\n",
    "SEED = 0\n",
    "TARGET = \"quality\"\n",
    "FEATURES = [\n",
    "    \"volatile acidity\", \"citric acid\",\n",
    "    \"sulphates\", \"alcohol\"\n",
    "]"
   ]
  },
  {
   "cell_type": "code",
   "execution_count": 2,
   "id": "63c2bd8d-bb17-4632-b511-3c52265b380b",
   "metadata": {},
   "outputs": [],
   "source": [
    "df = read_from_s3(bucket_name=S3_BUCKET_NAME, filename=FILENAME)\n",
    "X_train, X_test, y_train, y_test = \\\n",
    "    train_test_split(df[FEATURES], df[TARGET], random_state=SEED)"
   ]
  },
  {
   "cell_type": "code",
   "execution_count": 3,
   "id": "9587c56e-a0ac-48a9-8d18-6bfa3f07fe6a",
   "metadata": {},
   "outputs": [],
   "source": [
    "def run_pipeline(pipeline):\n",
    "    pipeline.fit(X_train, y_train)\n",
    "    accuracy = accuracy_score(y_test, pipeline.predict(X_test))\n",
    "    mlflow.log_metric(\"accuracy\", accuracy)"
   ]
  },
  {
   "cell_type": "code",
   "execution_count": 4,
   "id": "045f8981-a68b-4bf8-9167-961cd615761b",
   "metadata": {},
   "outputs": [],
   "source": [
    "def run_experiment(pipeline):\n",
    "    with mlflow.start_run() as run:\n",
    "        mlflow.autolog()\n",
    "        run_pipeline(pipeline)"
   ]
  },
  {
   "cell_type": "code",
   "execution_count": 5,
   "id": "c47df183-ad36-4fba-b85c-48559efb2667",
   "metadata": {},
   "outputs": [
    {
     "name": "stderr",
     "output_type": "stream",
     "text": [
      "2023/08/12 19:48:55 WARNING mlflow.utils.autologging_utils: You are using an unsupported version of sklearn. If you encounter errors during autologging, try upgrading / downgrading sklearn to a supported version, or try upgrading MLflow.\n",
      "2023/08/12 19:48:55 WARNING mlflow.tracking.fluent: Exception raised while enabling autologging for sklearn: module 'sklearn.metrics' has no attribute 'SCORERS'\n",
      "/opt/conda/lib/python3.11/site-packages/sklearn/svm/_classes.py:32: FutureWarning: The default value of `dual` will change from `True` to `'auto'` in 1.5. Set the value of `dual` explicitly to suppress the warning.\n",
      "  warnings.warn(\n",
      "/opt/conda/lib/python3.11/site-packages/sklearn/svm/_base.py:1242: ConvergenceWarning: Liblinear failed to converge, increase the number of iterations.\n",
      "  warnings.warn(\n",
      "/opt/conda/lib/python3.11/site-packages/sklearn/metrics/_classification.py:1469: UndefinedMetricWarning: Precision is ill-defined and being set to 0.0 in labels with no predicted samples. Use `zero_division` parameter to control this behavior.\n",
      "  _warn_prf(average, modifier, msg_start, len(result))\n",
      "2023/08/12 19:48:57 WARNING mlflow.utils.autologging_utils: MLflow autologging encountered a warning: \"/opt/conda/lib/python3.11/site-packages/_distutils_hack/__init__.py:33: UserWarning: Setuptools is replacing distutils.\"\n"
     ]
    }
   ],
   "source": [
    "linear_svc_pipeline = make_pipeline(\n",
    "    StandardScaler(),\n",
    "    LinearSVC()\n",
    ")\n",
    "\n",
    "run_experiment(linear_svc_pipeline)"
   ]
  },
  {
   "cell_type": "code",
   "execution_count": 6,
   "id": "465cf28c-f24f-4e1a-b7c3-75fd334ba308",
   "metadata": {},
   "outputs": [
    {
     "name": "stderr",
     "output_type": "stream",
     "text": [
      "/opt/conda/lib/python3.11/site-packages/sklearn/metrics/_classification.py:1469: UndefinedMetricWarning: Precision is ill-defined and being set to 0.0 in labels with no predicted samples. Use `zero_division` parameter to control this behavior.\n",
      "  _warn_prf(average, modifier, msg_start, len(result))\n"
     ]
    }
   ],
   "source": [
    "svc_pipeline = make_pipeline(\n",
    "    StandardScaler(),\n",
    "    SVC()\n",
    ")\n",
    "\n",
    "run_experiment(svc_pipeline)"
   ]
  },
  {
   "cell_type": "code",
   "execution_count": 7,
   "id": "af10e2fb-eb76-4fcf-8f0d-90e817424dd3",
   "metadata": {},
   "outputs": [
    {
     "name": "stderr",
     "output_type": "stream",
     "text": [
      "/opt/conda/lib/python3.11/site-packages/sklearn/metrics/_classification.py:1469: UndefinedMetricWarning: Precision is ill-defined and being set to 0.0 in labels with no predicted samples. Use `zero_division` parameter to control this behavior.\n",
      "  _warn_prf(average, modifier, msg_start, len(result))\n"
     ]
    }
   ],
   "source": [
    "knn_pipeline = make_pipeline(\n",
    "    StandardScaler(),\n",
    "    KNeighborsClassifier()\n",
    ")\n",
    "\n",
    "run_experiment(knn_pipeline)"
   ]
  },
  {
   "cell_type": "code",
   "execution_count": 8,
   "id": "92046c85-7ba0-413e-a46b-1f30872635f1",
   "metadata": {},
   "outputs": [],
   "source": [
    "rfc_pipeline = make_pipeline(\n",
    "    StandardScaler(),\n",
    "    RandomForestClassifier()\n",
    ")\n",
    "\n",
    "run_experiment(rfc_pipeline)"
   ]
  }
 ],
 "metadata": {
  "kernelspec": {
   "display_name": "Python 3 (ipykernel)",
   "language": "python",
   "name": "python3"
  },
  "language_info": {
   "codemirror_mode": {
    "name": "ipython",
    "version": 3
   },
   "file_extension": ".py",
   "mimetype": "text/x-python",
   "name": "python",
   "nbconvert_exporter": "python",
   "pygments_lexer": "ipython3",
   "version": "3.11.4"
  }
 },
 "nbformat": 4,
 "nbformat_minor": 5
}
